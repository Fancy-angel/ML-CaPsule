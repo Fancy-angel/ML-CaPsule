{
  "nbformat": 4,
  "nbformat_minor": 0,
  "metadata": {
    "colab": {
      "name": "Breast cancer detection.ipynb",
      "provenance": [],
      "collapsed_sections": []
    },
    "kernelspec": {
      "name": "python3",
      "display_name": "Python 3"
    },
    "language_info": {
      "name": "python"
    }
  },
  "cells": [
    {
      "cell_type": "code",
      "metadata": {
        "id": "WhWM90Z5P95r"
      },
      "source": [
        "import pandas as pd\n",
        "import numpy as np\n",
        "\n",
        "from sklearn.datasets import load_breast_cancer\n",
        "from sklearn.preprocessing import StandardScaler\n",
        "\n",
        "from keras.models import Sequential\n",
        "from keras.layers import Dense"
      ],
      "execution_count": 1,
      "outputs": []
    },
    {
      "cell_type": "code",
      "metadata": {
        "id": "WPeoIrqWQFvi"
      },
      "source": [
        "data = load_breast_cancer()"
      ],
      "execution_count": 2,
      "outputs": []
    },
    {
      "cell_type": "code",
      "metadata": {
        "colab": {
          "base_uri": "https://localhost:8080/"
        },
        "id": "ch_B_IcMQLsv",
        "outputId": "1fe2adac-206f-4086-ce92-e9a29a2f7ad4"
      },
      "source": [
        "data.keys()"
      ],
      "execution_count": 3,
      "outputs": [
        {
          "output_type": "execute_result",
          "data": {
            "text/plain": [
              "dict_keys(['data', 'target', 'target_names', 'DESCR', 'feature_names', 'filename'])"
            ]
          },
          "metadata": {},
          "execution_count": 3
        }
      ]
    },
    {
      "cell_type": "code",
      "metadata": {
        "colab": {
          "base_uri": "https://localhost:8080/"
        },
        "id": "Fs7oHGJoQPKn",
        "outputId": "183337f3-c58e-4453-9d3b-3e96e600cbd6"
      },
      "source": [
        "print(data['DESCR'])"
      ],
      "execution_count": 4,
      "outputs": [
        {
          "output_type": "stream",
          "name": "stdout",
          "text": [
            ".. _breast_cancer_dataset:\n",
            "\n",
            "Breast cancer wisconsin (diagnostic) dataset\n",
            "--------------------------------------------\n",
            "\n",
            "**Data Set Characteristics:**\n",
            "\n",
            "    :Number of Instances: 569\n",
            "\n",
            "    :Number of Attributes: 30 numeric, predictive attributes and the class\n",
            "\n",
            "    :Attribute Information:\n",
            "        - radius (mean of distances from center to points on the perimeter)\n",
            "        - texture (standard deviation of gray-scale values)\n",
            "        - perimeter\n",
            "        - area\n",
            "        - smoothness (local variation in radius lengths)\n",
            "        - compactness (perimeter^2 / area - 1.0)\n",
            "        - concavity (severity of concave portions of the contour)\n",
            "        - concave points (number of concave portions of the contour)\n",
            "        - symmetry \n",
            "        - fractal dimension (\"coastline approximation\" - 1)\n",
            "\n",
            "        The mean, standard error, and \"worst\" or largest (mean of the three\n",
            "        largest values) of these features were computed for each image,\n",
            "        resulting in 30 features.  For instance, field 3 is Mean Radius, field\n",
            "        13 is Radius SE, field 23 is Worst Radius.\n",
            "\n",
            "        - class:\n",
            "                - WDBC-Malignant\n",
            "                - WDBC-Benign\n",
            "\n",
            "    :Summary Statistics:\n",
            "\n",
            "    ===================================== ====== ======\n",
            "                                           Min    Max\n",
            "    ===================================== ====== ======\n",
            "    radius (mean):                        6.981  28.11\n",
            "    texture (mean):                       9.71   39.28\n",
            "    perimeter (mean):                     43.79  188.5\n",
            "    area (mean):                          143.5  2501.0\n",
            "    smoothness (mean):                    0.053  0.163\n",
            "    compactness (mean):                   0.019  0.345\n",
            "    concavity (mean):                     0.0    0.427\n",
            "    concave points (mean):                0.0    0.201\n",
            "    symmetry (mean):                      0.106  0.304\n",
            "    fractal dimension (mean):             0.05   0.097\n",
            "    radius (standard error):              0.112  2.873\n",
            "    texture (standard error):             0.36   4.885\n",
            "    perimeter (standard error):           0.757  21.98\n",
            "    area (standard error):                6.802  542.2\n",
            "    smoothness (standard error):          0.002  0.031\n",
            "    compactness (standard error):         0.002  0.135\n",
            "    concavity (standard error):           0.0    0.396\n",
            "    concave points (standard error):      0.0    0.053\n",
            "    symmetry (standard error):            0.008  0.079\n",
            "    fractal dimension (standard error):   0.001  0.03\n",
            "    radius (worst):                       7.93   36.04\n",
            "    texture (worst):                      12.02  49.54\n",
            "    perimeter (worst):                    50.41  251.2\n",
            "    area (worst):                         185.2  4254.0\n",
            "    smoothness (worst):                   0.071  0.223\n",
            "    compactness (worst):                  0.027  1.058\n",
            "    concavity (worst):                    0.0    1.252\n",
            "    concave points (worst):               0.0    0.291\n",
            "    symmetry (worst):                     0.156  0.664\n",
            "    fractal dimension (worst):            0.055  0.208\n",
            "    ===================================== ====== ======\n",
            "\n",
            "    :Missing Attribute Values: None\n",
            "\n",
            "    :Class Distribution: 212 - Malignant, 357 - Benign\n",
            "\n",
            "    :Creator:  Dr. William H. Wolberg, W. Nick Street, Olvi L. Mangasarian\n",
            "\n",
            "    :Donor: Nick Street\n",
            "\n",
            "    :Date: November, 1995\n",
            "\n",
            "This is a copy of UCI ML Breast Cancer Wisconsin (Diagnostic) datasets.\n",
            "https://goo.gl/U2Uwz2\n",
            "\n",
            "Features are computed from a digitized image of a fine needle\n",
            "aspirate (FNA) of a breast mass.  They describe\n",
            "characteristics of the cell nuclei present in the image.\n",
            "\n",
            "Separating plane described above was obtained using\n",
            "Multisurface Method-Tree (MSM-T) [K. P. Bennett, \"Decision Tree\n",
            "Construction Via Linear Programming.\" Proceedings of the 4th\n",
            "Midwest Artificial Intelligence and Cognitive Science Society,\n",
            "pp. 97-101, 1992], a classification method which uses linear\n",
            "programming to construct a decision tree.  Relevant features\n",
            "were selected using an exhaustive search in the space of 1-4\n",
            "features and 1-3 separating planes.\n",
            "\n",
            "The actual linear program used to obtain the separating plane\n",
            "in the 3-dimensional space is that described in:\n",
            "[K. P. Bennett and O. L. Mangasarian: \"Robust Linear\n",
            "Programming Discrimination of Two Linearly Inseparable Sets\",\n",
            "Optimization Methods and Software 1, 1992, 23-34].\n",
            "\n",
            "This database is also available through the UW CS ftp server:\n",
            "\n",
            "ftp ftp.cs.wisc.edu\n",
            "cd math-prog/cpo-dataset/machine-learn/WDBC/\n",
            "\n",
            ".. topic:: References\n",
            "\n",
            "   - W.N. Street, W.H. Wolberg and O.L. Mangasarian. Nuclear feature extraction \n",
            "     for breast tumor diagnosis. IS&T/SPIE 1993 International Symposium on \n",
            "     Electronic Imaging: Science and Technology, volume 1905, pages 861-870,\n",
            "     San Jose, CA, 1993.\n",
            "   - O.L. Mangasarian, W.N. Street and W.H. Wolberg. Breast cancer diagnosis and \n",
            "     prognosis via linear programming. Operations Research, 43(4), pages 570-577, \n",
            "     July-August 1995.\n",
            "   - W.H. Wolberg, W.N. Street, and O.L. Mangasarian. Machine learning techniques\n",
            "     to diagnose breast cancer from fine-needle aspirates. Cancer Letters 77 (1994) \n",
            "     163-171.\n"
          ]
        }
      ]
    },
    {
      "cell_type": "code",
      "metadata": {
        "colab": {
          "base_uri": "https://localhost:8080/"
        },
        "id": "1Yvm4bdeQT8V",
        "outputId": "a03e1fc6-7e12-4479-e0cf-994c0ae18dc8"
      },
      "source": [
        "data['data'].shape"
      ],
      "execution_count": 5,
      "outputs": [
        {
          "output_type": "execute_result",
          "data": {
            "text/plain": [
              "(569, 30)"
            ]
          },
          "metadata": {},
          "execution_count": 5
        }
      ]
    },
    {
      "cell_type": "code",
      "metadata": {
        "colab": {
          "base_uri": "https://localhost:8080/"
        },
        "id": "6gkwUk27QZcz",
        "outputId": "4eff55ff-96c0-4450-ac6d-4f3933dd2e75"
      },
      "source": [
        "data['feature_names']"
      ],
      "execution_count": 6,
      "outputs": [
        {
          "output_type": "execute_result",
          "data": {
            "text/plain": [
              "array(['mean radius', 'mean texture', 'mean perimeter', 'mean area',\n",
              "       'mean smoothness', 'mean compactness', 'mean concavity',\n",
              "       'mean concave points', 'mean symmetry', 'mean fractal dimension',\n",
              "       'radius error', 'texture error', 'perimeter error', 'area error',\n",
              "       'smoothness error', 'compactness error', 'concavity error',\n",
              "       'concave points error', 'symmetry error',\n",
              "       'fractal dimension error', 'worst radius', 'worst texture',\n",
              "       'worst perimeter', 'worst area', 'worst smoothness',\n",
              "       'worst compactness', 'worst concavity', 'worst concave points',\n",
              "       'worst symmetry', 'worst fractal dimension'], dtype='<U23')"
            ]
          },
          "metadata": {},
          "execution_count": 6
        }
      ]
    },
    {
      "cell_type": "code",
      "metadata": {
        "colab": {
          "base_uri": "https://localhost:8080/"
        },
        "id": "HEn7pXWqQZ9v",
        "outputId": "db75eca0-ddab-4c79-e6e6-735a28960650"
      },
      "source": [
        "data['data'][0]"
      ],
      "execution_count": 7,
      "outputs": [
        {
          "output_type": "execute_result",
          "data": {
            "text/plain": [
              "array([1.799e+01, 1.038e+01, 1.228e+02, 1.001e+03, 1.184e-01, 2.776e-01,\n",
              "       3.001e-01, 1.471e-01, 2.419e-01, 7.871e-02, 1.095e+00, 9.053e-01,\n",
              "       8.589e+00, 1.534e+02, 6.399e-03, 4.904e-02, 5.373e-02, 1.587e-02,\n",
              "       3.003e-02, 6.193e-03, 2.538e+01, 1.733e+01, 1.846e+02, 2.019e+03,\n",
              "       1.622e-01, 6.656e-01, 7.119e-01, 2.654e-01, 4.601e-01, 1.189e-01])"
            ]
          },
          "metadata": {},
          "execution_count": 7
        }
      ]
    },
    {
      "cell_type": "code",
      "metadata": {
        "colab": {
          "base_uri": "https://localhost:8080/"
        },
        "id": "BorNqjt_QaF0",
        "outputId": "780354e0-7619-4a59-ad10-a6878fce95cc"
      },
      "source": [
        "j = 0\n",
        "for i in data['feature_names']:\n",
        "  print(i,\":\",data['data'][0][j])\n",
        "  j+=1"
      ],
      "execution_count": 8,
      "outputs": [
        {
          "output_type": "stream",
          "name": "stdout",
          "text": [
            "mean radius : 17.99\n",
            "mean texture : 10.38\n",
            "mean perimeter : 122.8\n",
            "mean area : 1001.0\n",
            "mean smoothness : 0.1184\n",
            "mean compactness : 0.2776\n",
            "mean concavity : 0.3001\n",
            "mean concave points : 0.1471\n",
            "mean symmetry : 0.2419\n",
            "mean fractal dimension : 0.07871\n",
            "radius error : 1.095\n",
            "texture error : 0.9053\n",
            "perimeter error : 8.589\n",
            "area error : 153.4\n",
            "smoothness error : 0.006399\n",
            "compactness error : 0.04904\n",
            "concavity error : 0.05373\n",
            "concave points error : 0.01587\n",
            "symmetry error : 0.03003\n",
            "fractal dimension error : 0.006193\n",
            "worst radius : 25.38\n",
            "worst texture : 17.33\n",
            "worst perimeter : 184.6\n",
            "worst area : 2019.0\n",
            "worst smoothness : 0.1622\n",
            "worst compactness : 0.6656\n",
            "worst concavity : 0.7119\n",
            "worst concave points : 0.2654\n",
            "worst symmetry : 0.4601\n",
            "worst fractal dimension : 0.1189\n"
          ]
        }
      ]
    },
    {
      "cell_type": "code",
      "metadata": {
        "id": "fbYLlpbZQkUz"
      },
      "source": [
        "feature = data['data']"
      ],
      "execution_count": 9,
      "outputs": []
    },
    {
      "cell_type": "code",
      "metadata": {
        "id": "URoPu22OQnmr"
      },
      "source": [
        "label = data['target']"
      ],
      "execution_count": 10,
      "outputs": []
    },
    {
      "cell_type": "code",
      "metadata": {
        "colab": {
          "base_uri": "https://localhost:8080/"
        },
        "id": "VTdPfmd4QqO_",
        "outputId": "81bf8056-e693-4b77-e391-cc5445425a51"
      },
      "source": [
        "data['target_names']"
      ],
      "execution_count": 11,
      "outputs": [
        {
          "output_type": "execute_result",
          "data": {
            "text/plain": [
              "array(['malignant', 'benign'], dtype='<U9')"
            ]
          },
          "metadata": {},
          "execution_count": 11
        }
      ]
    },
    {
      "cell_type": "code",
      "metadata": {
        "colab": {
          "base_uri": "https://localhost:8080/"
        },
        "id": "IYq6w5HTQstm",
        "outputId": "1bf0687b-ccfe-45de-f5ef-a992ff7410c8"
      },
      "source": [
        "feature.shape"
      ],
      "execution_count": 12,
      "outputs": [
        {
          "output_type": "execute_result",
          "data": {
            "text/plain": [
              "(569, 30)"
            ]
          },
          "metadata": {},
          "execution_count": 12
        }
      ]
    },
    {
      "cell_type": "code",
      "metadata": {
        "colab": {
          "base_uri": "https://localhost:8080/"
        },
        "id": "SJOlEyYrQvIK",
        "outputId": "cb04c67a-675f-4350-95e0-f7062d14a98a"
      },
      "source": [
        "label.shape"
      ],
      "execution_count": 13,
      "outputs": [
        {
          "output_type": "execute_result",
          "data": {
            "text/plain": [
              "(569,)"
            ]
          },
          "metadata": {},
          "execution_count": 13
        }
      ]
    },
    {
      "cell_type": "code",
      "metadata": {
        "id": "khUm4twZQyqD"
      },
      "source": [
        "scale = StandardScaler()\n",
        "\n",
        "feature = scale.fit_transform(feature)"
      ],
      "execution_count": 14,
      "outputs": []
    },
    {
      "cell_type": "code",
      "metadata": {
        "colab": {
          "base_uri": "https://localhost:8080/"
        },
        "id": "1MTnIB4YQ1Xn",
        "outputId": "3e9a33cb-ca57-4950-e9eb-a298419e14ae"
      },
      "source": [
        "j = 0\n",
        "for i in data['feature_names']:\n",
        "  print(i,\":\",feature[0][j])\n",
        "  j+=1"
      ],
      "execution_count": 15,
      "outputs": [
        {
          "output_type": "stream",
          "name": "stdout",
          "text": [
            "mean radius : 1.0970639814699807\n",
            "mean texture : -2.0733350146975935\n",
            "mean perimeter : 1.2699336881399383\n",
            "mean area : 0.9843749048031144\n",
            "mean smoothness : 1.568466329243428\n",
            "mean compactness : 3.2835146709868264\n",
            "mean concavity : 2.652873983743168\n",
            "mean concave points : 2.532475216403245\n",
            "mean symmetry : 2.2175150059646405\n",
            "mean fractal dimension : 2.255746885296269\n",
            "radius error : 2.4897339267376193\n",
            "texture error : -0.5652650590684639\n",
            "perimeter error : 2.833030865855184\n",
            "area error : 2.4875775569611043\n",
            "smoothness error : -0.21400164666895383\n",
            "compactness error : 1.3168615683959484\n",
            "concavity error : 0.72402615808036\n",
            "concave points error : 0.6608199414286064\n",
            "symmetry error : 1.1487566671861758\n",
            "fractal dimension error : 0.9070830809973359\n",
            "worst radius : 1.8866896251792757\n",
            "worst texture : -1.3592934737640827\n",
            "worst perimeter : 2.3036006236225606\n",
            "worst area : 2.0012374893299207\n",
            "worst smoothness : 1.3076862710715387\n",
            "worst compactness : 2.616665023512603\n",
            "worst concavity : 2.1095263465722556\n",
            "worst concave points : 2.296076127561788\n",
            "worst symmetry : 2.750622244124955\n",
            "worst fractal dimension : 1.9370146123781782\n"
          ]
        }
      ]
    },
    {
      "cell_type": "code",
      "metadata": {
        "colab": {
          "base_uri": "https://localhost:8080/"
        },
        "id": "6UGaaWC_Q4rq",
        "outputId": "81d01b3c-5bad-4d73-8fd5-fe9fa1a27800"
      },
      "source": [
        "print(feature[568])\n",
        "print(data['target_names'][label[568]],label[568])"
      ],
      "execution_count": 16,
      "outputs": [
        {
          "output_type": "stream",
          "name": "stdout",
          "text": [
            "[-1.80840125  1.22179204 -1.81438851 -1.34778924 -3.11208479 -1.15075248\n",
            " -1.11487284 -1.26181958 -0.8200699  -0.56103238 -0.07027874  0.3830925\n",
            " -0.15744905 -0.46615196  0.04934236 -1.16351619 -1.05750068 -1.91344745\n",
            "  0.75282996 -0.382754   -1.41089258  0.76418957 -1.43273495 -1.07581292\n",
            " -1.85901852 -1.2075525  -1.30583065 -1.74506282 -0.04813821 -0.75120669]\n",
            "benign 1\n"
          ]
        }
      ]
    },
    {
      "cell_type": "code",
      "metadata": {
        "id": "XlAoDe3BQ7Op"
      },
      "source": [
        "df_frt = pd.DataFrame(feature , columns = data['feature_names'])\n",
        "df_lbl = pd.DataFrame(label , columns = ['label'])\n",
        "df = pd.concat([df_frt, df_lbl], axis=1)\n",
        "df = df.sample(frac = 1)\n",
        "\n",
        "feature = df.values[ : , : 30]\n",
        "label = df.values[ : ,30: ]"
      ],
      "execution_count": 17,
      "outputs": []
    },
    {
      "cell_type": "code",
      "metadata": {
        "colab": {
          "base_uri": "https://localhost:8080/",
          "height": 476
        },
        "id": "bm9-LNbfQ9_8",
        "outputId": "61d4b47a-077f-4954-d6c5-8120be708210"
      },
      "source": [
        "df"
      ],
      "execution_count": 19,
      "outputs": [
        {
          "output_type": "execute_result",
          "data": {
            "text/html": [
              "<div>\n",
              "<style scoped>\n",
              "    .dataframe tbody tr th:only-of-type {\n",
              "        vertical-align: middle;\n",
              "    }\n",
              "\n",
              "    .dataframe tbody tr th {\n",
              "        vertical-align: top;\n",
              "    }\n",
              "\n",
              "    .dataframe thead th {\n",
              "        text-align: right;\n",
              "    }\n",
              "</style>\n",
              "<table border=\"1\" class=\"dataframe\">\n",
              "  <thead>\n",
              "    <tr style=\"text-align: right;\">\n",
              "      <th></th>\n",
              "      <th>mean radius</th>\n",
              "      <th>mean texture</th>\n",
              "      <th>mean perimeter</th>\n",
              "      <th>mean area</th>\n",
              "      <th>mean smoothness</th>\n",
              "      <th>mean compactness</th>\n",
              "      <th>mean concavity</th>\n",
              "      <th>mean concave points</th>\n",
              "      <th>mean symmetry</th>\n",
              "      <th>mean fractal dimension</th>\n",
              "      <th>radius error</th>\n",
              "      <th>texture error</th>\n",
              "      <th>perimeter error</th>\n",
              "      <th>area error</th>\n",
              "      <th>smoothness error</th>\n",
              "      <th>compactness error</th>\n",
              "      <th>concavity error</th>\n",
              "      <th>concave points error</th>\n",
              "      <th>symmetry error</th>\n",
              "      <th>fractal dimension error</th>\n",
              "      <th>worst radius</th>\n",
              "      <th>worst texture</th>\n",
              "      <th>worst perimeter</th>\n",
              "      <th>worst area</th>\n",
              "      <th>worst smoothness</th>\n",
              "      <th>worst compactness</th>\n",
              "      <th>worst concavity</th>\n",
              "      <th>worst concave points</th>\n",
              "      <th>worst symmetry</th>\n",
              "      <th>worst fractal dimension</th>\n",
              "      <th>label</th>\n",
              "    </tr>\n",
              "  </thead>\n",
              "  <tbody>\n",
              "    <tr>\n",
              "      <th>392</th>\n",
              "      <td>0.387028</td>\n",
              "      <td>0.158322</td>\n",
              "      <td>0.429654</td>\n",
              "      <td>0.255431</td>\n",
              "      <td>1.397669</td>\n",
              "      <td>0.982805</td>\n",
              "      <td>1.259272</td>\n",
              "      <td>1.088786</td>\n",
              "      <td>0.428553</td>\n",
              "      <td>0.658107</td>\n",
              "      <td>0.872808</td>\n",
              "      <td>0.207101</td>\n",
              "      <td>0.895481</td>\n",
              "      <td>0.584650</td>\n",
              "      <td>0.076010</td>\n",
              "      <td>0.212484</td>\n",
              "      <td>0.591066</td>\n",
              "      <td>0.745169</td>\n",
              "      <td>-0.244857</td>\n",
              "      <td>0.165332</td>\n",
              "      <td>1.021085</td>\n",
              "      <td>0.607860</td>\n",
              "      <td>1.037702</td>\n",
              "      <td>0.841015</td>\n",
              "      <td>1.566318</td>\n",
              "      <td>0.871734</td>\n",
              "      <td>1.358234</td>\n",
              "      <td>1.484498</td>\n",
              "      <td>0.463080</td>\n",
              "      <td>0.994946</td>\n",
              "      <td>0</td>\n",
              "    </tr>\n",
              "    <tr>\n",
              "      <th>227</th>\n",
              "      <td>0.247862</td>\n",
              "      <td>-0.879550</td>\n",
              "      <td>0.225762</td>\n",
              "      <td>0.084216</td>\n",
              "      <td>-0.900263</td>\n",
              "      <td>0.099666</td>\n",
              "      <td>-0.298172</td>\n",
              "      <td>-0.286807</td>\n",
              "      <td>0.253307</td>\n",
              "      <td>-0.528427</td>\n",
              "      <td>-0.625736</td>\n",
              "      <td>-1.306787</td>\n",
              "      <td>-0.292097</td>\n",
              "      <td>-0.450091</td>\n",
              "      <td>-0.974032</td>\n",
              "      <td>0.368416</td>\n",
              "      <td>0.150741</td>\n",
              "      <td>-0.039926</td>\n",
              "      <td>-0.803029</td>\n",
              "      <td>-0.223510</td>\n",
              "      <td>0.029159</td>\n",
              "      <td>-1.036863</td>\n",
              "      <td>0.206678</td>\n",
              "      <td>-0.127243</td>\n",
              "      <td>-0.822738</td>\n",
              "      <td>0.689798</td>\n",
              "      <td>0.326287</td>\n",
              "      <td>0.354685</td>\n",
              "      <td>0.086138</td>\n",
              "      <td>-0.018055</td>\n",
              "      <td>1</td>\n",
              "    </tr>\n",
              "    <tr>\n",
              "      <th>41</th>\n",
              "      <td>-0.902396</td>\n",
              "      <td>0.479458</td>\n",
              "      <td>-0.826648</td>\n",
              "      <td>-0.807125</td>\n",
              "      <td>1.874478</td>\n",
              "      <td>0.330874</td>\n",
              "      <td>0.195866</td>\n",
              "      <td>0.200441</td>\n",
              "      <td>0.304421</td>\n",
              "      <td>0.836725</td>\n",
              "      <td>-0.608412</td>\n",
              "      <td>0.383092</td>\n",
              "      <td>-0.516841</td>\n",
              "      <td>-0.514116</td>\n",
              "      <td>0.341021</td>\n",
              "      <td>-0.438070</td>\n",
              "      <td>-0.197076</td>\n",
              "      <td>-0.231333</td>\n",
              "      <td>-0.844196</td>\n",
              "      <td>-0.285543</td>\n",
              "      <td>-0.710125</td>\n",
              "      <td>1.573523</td>\n",
              "      <td>-0.596944</td>\n",
              "      <td>-0.644421</td>\n",
              "      <td>2.565776</td>\n",
              "      <td>0.098824</td>\n",
              "      <td>0.624213</td>\n",
              "      <td>0.423205</td>\n",
              "      <td>0.102315</td>\n",
              "      <td>0.671317</td>\n",
              "      <td>0</td>\n",
              "    </tr>\n",
              "    <tr>\n",
              "      <th>339</th>\n",
              "      <td>2.664822</td>\n",
              "      <td>1.158961</td>\n",
              "      <td>2.600377</td>\n",
              "      <td>3.106075</td>\n",
              "      <td>0.750064</td>\n",
              "      <td>0.454059</td>\n",
              "      <td>1.782814</td>\n",
              "      <td>2.375132</td>\n",
              "      <td>-0.053372</td>\n",
              "      <td>-1.096887</td>\n",
              "      <td>2.179342</td>\n",
              "      <td>-0.530430</td>\n",
              "      <td>1.780101</td>\n",
              "      <td>2.722996</td>\n",
              "      <td>-0.249670</td>\n",
              "      <td>-0.322379</td>\n",
              "      <td>0.130184</td>\n",
              "      <td>0.196900</td>\n",
              "      <td>-0.696480</td>\n",
              "      <td>-0.256040</td>\n",
              "      <td>2.982156</td>\n",
              "      <td>0.822813</td>\n",
              "      <td>2.833789</td>\n",
              "      <td>3.560506</td>\n",
              "      <td>0.838642</td>\n",
              "      <td>0.086101</td>\n",
              "      <td>1.006096</td>\n",
              "      <td>1.435773</td>\n",
              "      <td>-0.497881</td>\n",
              "      <td>-0.363850</td>\n",
              "      <td>0</td>\n",
              "    </tr>\n",
              "    <tr>\n",
              "      <th>176</th>\n",
              "      <td>-1.199475</td>\n",
              "      <td>-0.286147</td>\n",
              "      <td>-1.127336</td>\n",
              "      <td>-1.002515</td>\n",
              "      <td>0.044814</td>\n",
              "      <td>0.474905</td>\n",
              "      <td>0.526062</td>\n",
              "      <td>-0.303315</td>\n",
              "      <td>-0.520693</td>\n",
              "      <td>2.603060</td>\n",
              "      <td>0.093579</td>\n",
              "      <td>1.894441</td>\n",
              "      <td>0.131649</td>\n",
              "      <td>-0.282878</td>\n",
              "      <td>1.939752</td>\n",
              "      <td>3.498789</td>\n",
              "      <td>2.911395</td>\n",
              "      <td>2.076910</td>\n",
              "      <td>2.210615</td>\n",
              "      <td>5.342837</td>\n",
              "      <td>-1.037316</td>\n",
              "      <td>-0.209616</td>\n",
              "      <td>-1.018414</td>\n",
              "      <td>-0.862051</td>\n",
              "      <td>-0.099446</td>\n",
              "      <td>0.259131</td>\n",
              "      <td>0.366586</td>\n",
              "      <td>-0.236107</td>\n",
              "      <td>-0.463908</td>\n",
              "      <td>1.787392</td>\n",
              "      <td>1</td>\n",
              "    </tr>\n",
              "    <tr>\n",
              "      <th>...</th>\n",
              "      <td>...</td>\n",
              "      <td>...</td>\n",
              "      <td>...</td>\n",
              "      <td>...</td>\n",
              "      <td>...</td>\n",
              "      <td>...</td>\n",
              "      <td>...</td>\n",
              "      <td>...</td>\n",
              "      <td>...</td>\n",
              "      <td>...</td>\n",
              "      <td>...</td>\n",
              "      <td>...</td>\n",
              "      <td>...</td>\n",
              "      <td>...</td>\n",
              "      <td>...</td>\n",
              "      <td>...</td>\n",
              "      <td>...</td>\n",
              "      <td>...</td>\n",
              "      <td>...</td>\n",
              "      <td>...</td>\n",
              "      <td>...</td>\n",
              "      <td>...</td>\n",
              "      <td>...</td>\n",
              "      <td>...</td>\n",
              "      <td>...</td>\n",
              "      <td>...</td>\n",
              "      <td>...</td>\n",
              "      <td>...</td>\n",
              "      <td>...</td>\n",
              "      <td>...</td>\n",
              "      <td>...</td>\n",
              "    </tr>\n",
              "    <tr>\n",
              "      <th>515</th>\n",
              "      <td>-0.791630</td>\n",
              "      <td>-0.158159</td>\n",
              "      <td>-0.791224</td>\n",
              "      <td>-0.749959</td>\n",
              "      <td>0.607733</td>\n",
              "      <td>-0.366730</td>\n",
              "      <td>-0.574758</td>\n",
              "      <td>-0.592724</td>\n",
              "      <td>0.421251</td>\n",
              "      <td>-0.097476</td>\n",
              "      <td>-0.585313</td>\n",
              "      <td>-0.375303</td>\n",
              "      <td>-0.680696</td>\n",
              "      <td>-0.487274</td>\n",
              "      <td>0.512028</td>\n",
              "      <td>-0.506814</td>\n",
              "      <td>-0.361535</td>\n",
              "      <td>-0.117786</td>\n",
              "      <td>0.459820</td>\n",
              "      <td>-0.975096</td>\n",
              "      <td>-0.786746</td>\n",
              "      <td>-0.431084</td>\n",
              "      <td>-0.837316</td>\n",
              "      <td>-0.706651</td>\n",
              "      <td>0.698367</td>\n",
              "      <td>-0.616197</td>\n",
              "      <td>-0.526713</td>\n",
              "      <td>-0.444407</td>\n",
              "      <td>0.257622</td>\n",
              "      <td>-0.893071</td>\n",
              "      <td>1</td>\n",
              "    </tr>\n",
              "    <tr>\n",
              "      <th>58</th>\n",
              "      <td>-0.305966</td>\n",
              "      <td>0.004736</td>\n",
              "      <td>-0.385500</td>\n",
              "      <td>-0.363161</td>\n",
              "      <td>-1.121587</td>\n",
              "      <td>-1.259344</td>\n",
              "      <td>-1.106185</td>\n",
              "      <td>-1.154336</td>\n",
              "      <td>0.026949</td>\n",
              "      <td>-1.103975</td>\n",
              "      <td>-0.004230</td>\n",
              "      <td>-0.005177</td>\n",
              "      <td>-0.134183</td>\n",
              "      <td>-0.162308</td>\n",
              "      <td>0.150013</td>\n",
              "      <td>-0.943703</td>\n",
              "      <td>-1.034556</td>\n",
              "      <td>-1.237520</td>\n",
              "      <td>0.164388</td>\n",
              "      <td>-0.304456</td>\n",
              "      <td>-0.422281</td>\n",
              "      <td>-0.558102</td>\n",
              "      <td>-0.506991</td>\n",
              "      <td>-0.450875</td>\n",
              "      <td>-1.326851</td>\n",
              "      <td>-1.223647</td>\n",
              "      <td>-1.296979</td>\n",
              "      <td>-1.575895</td>\n",
              "      <td>-0.747019</td>\n",
              "      <td>-1.166825</td>\n",
              "      <td>1</td>\n",
              "    </tr>\n",
              "    <tr>\n",
              "      <th>33</th>\n",
              "      <td>1.460602</td>\n",
              "      <td>1.670916</td>\n",
              "      <td>1.480004</td>\n",
              "      <td>1.442275</td>\n",
              "      <td>-0.167259</td>\n",
              "      <td>1.280343</td>\n",
              "      <td>0.965486</td>\n",
              "      <td>0.696717</td>\n",
              "      <td>0.151081</td>\n",
              "      <td>-0.026596</td>\n",
              "      <td>0.543648</td>\n",
              "      <td>-1.107935</td>\n",
              "      <td>0.327681</td>\n",
              "      <td>0.612372</td>\n",
              "      <td>-0.675354</td>\n",
              "      <td>0.430453</td>\n",
              "      <td>0.102000</td>\n",
              "      <td>-0.349260</td>\n",
              "      <td>-0.618989</td>\n",
              "      <td>0.038240</td>\n",
              "      <td>1.631978</td>\n",
              "      <td>0.850497</td>\n",
              "      <td>1.612569</td>\n",
              "      <td>1.639107</td>\n",
              "      <td>0.812341</td>\n",
              "      <td>2.574680</td>\n",
              "      <td>1.616341</td>\n",
              "      <td>0.972885</td>\n",
              "      <td>1.247704</td>\n",
              "      <td>1.571270</td>\n",
              "      <td>0</td>\n",
              "    </tr>\n",
              "    <tr>\n",
              "      <th>107</th>\n",
              "      <td>-0.501936</td>\n",
              "      <td>-0.174448</td>\n",
              "      <td>-0.533785</td>\n",
              "      <td>-0.535229</td>\n",
              "      <td>-0.824827</td>\n",
              "      <td>-0.685873</td>\n",
              "      <td>-0.783045</td>\n",
              "      <td>-0.766317</td>\n",
              "      <td>-0.765306</td>\n",
              "      <td>-0.303028</td>\n",
              "      <td>-1.029607</td>\n",
              "      <td>-0.585041</td>\n",
              "      <td>-0.998803</td>\n",
              "      <td>-0.684475</td>\n",
              "      <td>-1.194708</td>\n",
              "      <td>-0.838798</td>\n",
              "      <td>-0.670558</td>\n",
              "      <td>-1.011886</td>\n",
              "      <td>-0.972539</td>\n",
              "      <td>-0.922519</td>\n",
              "      <td>-0.616938</td>\n",
              "      <td>0.295199</td>\n",
              "      <td>-0.646389</td>\n",
              "      <td>-0.591508</td>\n",
              "      <td>-0.612326</td>\n",
              "      <td>-0.368739</td>\n",
              "      <td>-0.376550</td>\n",
              "      <td>-0.459633</td>\n",
              "      <td>0.133053</td>\n",
              "      <td>-0.670300</td>\n",
              "      <td>1</td>\n",
              "    </tr>\n",
              "    <tr>\n",
              "      <th>74</th>\n",
              "      <td>-0.516137</td>\n",
              "      <td>-0.644516</td>\n",
              "      <td>-0.526371</td>\n",
              "      <td>-0.523284</td>\n",
              "      <td>-0.330228</td>\n",
              "      <td>-0.683219</td>\n",
              "      <td>-0.691519</td>\n",
              "      <td>-0.675780</td>\n",
              "      <td>-0.334494</td>\n",
              "      <td>-0.518504</td>\n",
              "      <td>-0.558244</td>\n",
              "      <td>-0.348088</td>\n",
              "      <td>-0.557434</td>\n",
              "      <td>-0.454491</td>\n",
              "      <td>-0.729023</td>\n",
              "      <td>-0.407331</td>\n",
              "      <td>-0.452053</td>\n",
              "      <td>-0.621447</td>\n",
              "      <td>-0.809083</td>\n",
              "      <td>-0.563936</td>\n",
              "      <td>-0.447130</td>\n",
              "      <td>-0.401772</td>\n",
              "      <td>-0.522778</td>\n",
              "      <td>-0.473728</td>\n",
              "      <td>-0.647394</td>\n",
              "      <td>-0.445075</td>\n",
              "      <td>-0.488812</td>\n",
              "      <td>-0.426439</td>\n",
              "      <td>-0.457437</td>\n",
              "      <td>-0.435337</td>\n",
              "      <td>1</td>\n",
              "    </tr>\n",
              "  </tbody>\n",
              "</table>\n",
              "<p>569 rows × 31 columns</p>\n",
              "</div>"
            ],
            "text/plain": [
              "     mean radius  mean texture  ...  worst fractal dimension  label\n",
              "392     0.387028      0.158322  ...                 0.994946      0\n",
              "227     0.247862     -0.879550  ...                -0.018055      1\n",
              "41     -0.902396      0.479458  ...                 0.671317      0\n",
              "339     2.664822      1.158961  ...                -0.363850      0\n",
              "176    -1.199475     -0.286147  ...                 1.787392      1\n",
              "..           ...           ...  ...                      ...    ...\n",
              "515    -0.791630     -0.158159  ...                -0.893071      1\n",
              "58     -0.305966      0.004736  ...                -1.166825      1\n",
              "33      1.460602      1.670916  ...                 1.571270      0\n",
              "107    -0.501936     -0.174448  ...                -0.670300      1\n",
              "74     -0.516137     -0.644516  ...                -0.435337      1\n",
              "\n",
              "[569 rows x 31 columns]"
            ]
          },
          "metadata": {},
          "execution_count": 19
        }
      ]
    },
    {
      "cell_type": "code",
      "metadata": {
        "id": "_zX_p3ANRCMu"
      },
      "source": [
        "#500 Training\n",
        "X_train = feature[:500]\n",
        "y_train = label[:500]\n",
        "\n",
        "#35 Validation\n",
        "X_val = feature[500:535]\n",
        "y_val = label[500:535]\n",
        "\n",
        "#34 Testing\n",
        "X_test = feature[535:]\n",
        "y_test = label[535:]"
      ],
      "execution_count": 21,
      "outputs": []
    },
    {
      "cell_type": "code",
      "metadata": {
        "id": "rr4_hIUmRFud"
      },
      "source": [
        "model = Sequential()\n",
        "\n",
        "model.add(Dense(32, activation = 'relu', input_dim = 30))\n",
        "model.add(Dense(64, activation = 'relu'))\n",
        "model.add(Dense(128, activation = 'relu'))\n",
        "model.add(Dense(64, activation = 'relu'))\n",
        "model.add(Dense(32, activation = 'relu'))\n",
        "model.add(Dense(1, activation = 'sigmoid'))\n",
        "\n",
        "model.compile( loss = 'binary_crossentropy' , optimizer = 'adam' , metrics = ['accuracy'])"
      ],
      "execution_count": 22,
      "outputs": []
    },
    {
      "cell_type": "code",
      "metadata": {
        "colab": {
          "base_uri": "https://localhost:8080/"
        },
        "id": "bv_eJ5l8RIwF",
        "outputId": "e6c91fab-eab4-445f-c436-5d67ca44df32"
      },
      "source": [
        "model.fit( X_train , y_train, epochs = 10, batch_size = 5, validation_data = (X_val, y_val))"
      ],
      "execution_count": 23,
      "outputs": [
        {
          "output_type": "stream",
          "name": "stdout",
          "text": [
            "Epoch 1/10\n",
            "100/100 [==============================] - 1s 4ms/step - loss: 0.2171 - accuracy: 0.9300 - val_loss: 0.3104 - val_accuracy: 0.9714\n",
            "Epoch 2/10\n",
            "100/100 [==============================] - 0s 2ms/step - loss: 0.0695 - accuracy: 0.9760 - val_loss: 0.3335 - val_accuracy: 0.9429\n",
            "Epoch 3/10\n",
            "100/100 [==============================] - 0s 2ms/step - loss: 0.0475 - accuracy: 0.9820 - val_loss: 0.2979 - val_accuracy: 0.9143\n",
            "Epoch 4/10\n",
            "100/100 [==============================] - 0s 2ms/step - loss: 0.0394 - accuracy: 0.9840 - val_loss: 0.3121 - val_accuracy: 0.9714\n",
            "Epoch 5/10\n",
            "100/100 [==============================] - 0s 2ms/step - loss: 0.0308 - accuracy: 0.9860 - val_loss: 0.3489 - val_accuracy: 0.9714\n",
            "Epoch 6/10\n",
            "100/100 [==============================] - 0s 2ms/step - loss: 0.0186 - accuracy: 0.9920 - val_loss: 0.4281 - val_accuracy: 0.9714\n",
            "Epoch 7/10\n",
            "100/100 [==============================] - 0s 2ms/step - loss: 0.0158 - accuracy: 0.9940 - val_loss: 0.4663 - val_accuracy: 0.9714\n",
            "Epoch 8/10\n",
            "100/100 [==============================] - 0s 2ms/step - loss: 0.0272 - accuracy: 0.9860 - val_loss: 0.7250 - val_accuracy: 0.9143\n",
            "Epoch 9/10\n",
            "100/100 [==============================] - 0s 2ms/step - loss: 0.0212 - accuracy: 0.9940 - val_loss: 0.4495 - val_accuracy: 0.9714\n",
            "Epoch 10/10\n",
            "100/100 [==============================] - 0s 2ms/step - loss: 0.0070 - accuracy: 0.9960 - val_loss: 0.5208 - val_accuracy: 0.9714\n"
          ]
        },
        {
          "output_type": "execute_result",
          "data": {
            "text/plain": [
              "<keras.callbacks.History at 0x7f305a266050>"
            ]
          },
          "metadata": {},
          "execution_count": 23
        }
      ]
    },
    {
      "cell_type": "code",
      "metadata": {
        "colab": {
          "base_uri": "https://localhost:8080/"
        },
        "id": "xJeVEg3GRLZP",
        "outputId": "cd29afb7-66f0-49c0-8716-b46225777086"
      },
      "source": [
        "model.evaluate(X_test , y_test)"
      ],
      "execution_count": 24,
      "outputs": [
        {
          "output_type": "stream",
          "name": "stdout",
          "text": [
            "2/2 [==============================] - 0s 7ms/step - loss: 7.4421e-04 - accuracy: 1.0000\n"
          ]
        },
        {
          "output_type": "execute_result",
          "data": {
            "text/plain": [
              "[0.0007442099740728736, 1.0]"
            ]
          },
          "metadata": {},
          "execution_count": 24
        }
      ]
    },
    {
      "cell_type": "code",
      "metadata": {
        "colab": {
          "base_uri": "https://localhost:8080/"
        },
        "id": "RG07JvuORMH7",
        "outputId": "f38d734d-bd27-4def-e8e5-ac52efcfc0ff"
      },
      "source": [
        "model.evaluate(X_val , y_val)"
      ],
      "execution_count": 25,
      "outputs": [
        {
          "output_type": "stream",
          "name": "stdout",
          "text": [
            "2/2 [==============================] - 0s 7ms/step - loss: 0.5208 - accuracy: 0.9714\n"
          ]
        },
        {
          "output_type": "execute_result",
          "data": {
            "text/plain": [
              "[0.5208361744880676, 0.9714285731315613]"
            ]
          },
          "metadata": {},
          "execution_count": 25
        }
      ]
    },
    {
      "cell_type": "code",
      "metadata": {
        "colab": {
          "base_uri": "https://localhost:8080/"
        },
        "id": "6WUKl49YRMXk",
        "outputId": "53b66ba2-17ca-4b5a-f9b1-b093e94a71e4"
      },
      "source": [
        "for i in range(30):\n",
        "  sample = X_test[i]\n",
        "  sample = np.reshape(sample, (1,30))\n",
        "\n",
        "  if (model.predict(sample)[0][0] > 0.5):\n",
        "    print(\"-Benign\")\n",
        "  else:\n",
        "    print(\"-Malignant\")\n",
        "\n",
        "  if (y_test[i] == 1):\n",
        "    print(\"*Banign\")\n",
        "  else:\n",
        "    print(\"*Melignant\")\n",
        "  print(\"-----------\")"
      ],
      "execution_count": 26,
      "outputs": [
        {
          "output_type": "stream",
          "name": "stdout",
          "text": [
            "-Malignant\n",
            "*Melignant\n",
            "-----------\n",
            "-Benign\n",
            "*Banign\n",
            "-----------\n",
            "-Benign\n",
            "*Banign\n",
            "-----------\n",
            "-Benign\n",
            "*Banign\n",
            "-----------\n",
            "-Benign\n",
            "*Banign\n",
            "-----------\n",
            "-Malignant\n",
            "*Melignant\n",
            "-----------\n",
            "-Malignant\n",
            "*Melignant\n",
            "-----------\n",
            "-Benign\n",
            "*Banign\n",
            "-----------\n",
            "-Benign\n",
            "*Banign\n",
            "-----------\n",
            "-Malignant\n",
            "*Melignant\n",
            "-----------\n",
            "-Benign\n",
            "*Banign\n",
            "-----------\n",
            "-Benign\n",
            "*Banign\n",
            "-----------\n",
            "-Benign\n",
            "*Banign\n",
            "-----------\n",
            "-Benign\n",
            "*Banign\n",
            "-----------\n",
            "-Benign\n",
            "*Banign\n",
            "-----------\n",
            "-Benign\n",
            "*Banign\n",
            "-----------\n",
            "-Benign\n",
            "*Banign\n",
            "-----------\n",
            "-Benign\n",
            "*Banign\n",
            "-----------\n",
            "-Malignant\n",
            "*Melignant\n",
            "-----------\n",
            "-Benign\n",
            "*Banign\n",
            "-----------\n",
            "-Benign\n",
            "*Banign\n",
            "-----------\n",
            "-Malignant\n",
            "*Melignant\n",
            "-----------\n",
            "-Benign\n",
            "*Banign\n",
            "-----------\n",
            "-Benign\n",
            "*Banign\n",
            "-----------\n",
            "-Benign\n",
            "*Banign\n",
            "-----------\n",
            "-Benign\n",
            "*Banign\n",
            "-----------\n",
            "-Benign\n",
            "*Banign\n",
            "-----------\n",
            "-Benign\n",
            "*Banign\n",
            "-----------\n",
            "-Malignant\n",
            "*Melignant\n",
            "-----------\n",
            "-Benign\n",
            "*Banign\n",
            "-----------\n"
          ]
        }
      ]
    },
    {
      "cell_type": "code",
      "metadata": {
        "colab": {
          "base_uri": "https://localhost:8080/"
        },
        "id": "Oa5kOaRcRMns",
        "outputId": "11a7dadf-8d95-4f82-a5c6-fc457976ac99"
      },
      "source": [
        "t = 0\n",
        "for i in y_val:\n",
        "  if (i == 1):\n",
        "    t += 1\n",
        "\n",
        "print(t)"
      ],
      "execution_count": 27,
      "outputs": [
        {
          "output_type": "stream",
          "name": "stdout",
          "text": [
            "24\n"
          ]
        }
      ]
    },
    {
      "cell_type": "code",
      "metadata": {
        "colab": {
          "base_uri": "https://localhost:8080/"
        },
        "id": "GRSjuwVIRM51",
        "outputId": "508771bc-9480-482a-981c-1132e71b3892"
      },
      "source": [
        "t = 0\n",
        "for i in y_test:\n",
        "  if (i == 1):\n",
        "    t += 1\n",
        "\n",
        "print(t)"
      ],
      "execution_count": 28,
      "outputs": [
        {
          "output_type": "stream",
          "name": "stdout",
          "text": [
            "26\n"
          ]
        }
      ]
    },
    {
      "cell_type": "code",
      "metadata": {
        "colab": {
          "base_uri": "https://localhost:8080/"
        },
        "id": "tDy46T7ARfZm",
        "outputId": "8f6e63f6-5183-4bbd-ee0f-e1e1b95ede2c"
      },
      "source": [
        "X_test[0] * -.1"
      ],
      "execution_count": 29,
      "outputs": [
        {
          "output_type": "execute_result",
          "data": {
            "text/plain": [
              "array([-0.11709077, -0.01606494, -0.1138125 , -0.10952949,  0.01231362,\n",
              "       -0.00882952, -0.03000724, -0.06469351,  0.00643246,  0.07623322,\n",
              "       -0.01498831,  0.08049399, -0.01554103, -0.02986275,  0.09090298,\n",
              "        0.0651568 ,  0.03101414,  0.0228089 ,  0.08296661,  0.06112178,\n",
              "       -0.13689833, -0.03228829, -0.13683253, -0.12752195, -0.05186402,\n",
              "       -0.0021215 , -0.05095523, -0.11967158, -0.02624757,  0.00147305])"
            ]
          },
          "metadata": {},
          "execution_count": 29
        }
      ]
    },
    {
      "cell_type": "code",
      "metadata": {
        "colab": {
          "base_uri": "https://localhost:8080/"
        },
        "id": "xGG-997eRfyO",
        "outputId": "0a21a19f-ff80-44c1-d32c-154cf16651d0"
      },
      "source": [
        "348/350"
      ],
      "execution_count": 30,
      "outputs": [
        {
          "output_type": "execute_result",
          "data": {
            "text/plain": [
              "0.9942857142857143"
            ]
          },
          "metadata": {},
          "execution_count": 30
        }
      ]
    },
    {
      "cell_type": "code",
      "metadata": {
        "colab": {
          "base_uri": "https://localhost:8080/"
        },
        "id": "Hp0XLEn_RgL5",
        "outputId": "fb9fc209-defc-48d8-a005-e746b28084ac"
      },
      "source": [
        "347/350"
      ],
      "execution_count": 31,
      "outputs": [
        {
          "output_type": "execute_result",
          "data": {
            "text/plain": [
              "0.9914285714285714"
            ]
          },
          "metadata": {},
          "execution_count": 31
        }
      ]
    },
    {
      "cell_type": "code",
      "metadata": {
        "colab": {
          "base_uri": "https://localhost:8080/"
        },
        "id": "9KBVEhIuRgdI",
        "outputId": "7e45d031-ed27-4105-e3ad-71e2870afa96"
      },
      "source": [
        "\n",
        "32/35"
      ],
      "execution_count": 32,
      "outputs": [
        {
          "output_type": "execute_result",
          "data": {
            "text/plain": [
              "0.9142857142857143"
            ]
          },
          "metadata": {},
          "execution_count": 32
        }
      ]
    }
  ]
}
